{
 "cells": [
  {
   "cell_type": "code",
   "execution_count": 11,
   "id": "02a378ae",
   "metadata": {},
   "outputs": [
    {
     "name": "stdout",
     "output_type": "stream",
     "text": [
      "Requirement already satisfied: matplotlib in d:\\anacondaa\\lib\\site-packages (3.9.2)\n",
      "Requirement already satisfied: contourpy>=1.0.1 in d:\\anacondaa\\lib\\site-packages (from matplotlib) (1.2.0)\n",
      "Requirement already satisfied: cycler>=0.10 in d:\\anacondaa\\lib\\site-packages (from matplotlib) (0.11.0)\n",
      "Requirement already satisfied: fonttools>=4.22.0 in d:\\anacondaa\\lib\\site-packages (from matplotlib) (4.51.0)\n",
      "Requirement already satisfied: kiwisolver>=1.3.1 in d:\\anacondaa\\lib\\site-packages (from matplotlib) (1.4.4)\n",
      "Requirement already satisfied: numpy>=1.23 in d:\\anacondaa\\lib\\site-packages (from matplotlib) (1.26.4)\n",
      "Requirement already satisfied: packaging>=20.0 in c:\\users\\rahul\\appdata\\roaming\\python\\python312\\site-packages (from matplotlib) (24.2)\n",
      "Requirement already satisfied: pillow>=8 in d:\\anacondaa\\lib\\site-packages (from matplotlib) (10.4.0)\n",
      "Requirement already satisfied: pyparsing>=2.3.1 in d:\\anacondaa\\lib\\site-packages (from matplotlib) (3.1.2)\n",
      "Requirement already satisfied: python-dateutil>=2.7 in c:\\users\\rahul\\appdata\\roaming\\python\\python312\\site-packages (from matplotlib) (2.9.0.post0)\n",
      "Requirement already satisfied: six>=1.5 in c:\\users\\rahul\\appdata\\roaming\\python\\python312\\site-packages (from python-dateutil>=2.7->matplotlib) (1.17.0)\n",
      "Note: you may need to restart the kernel to use updated packages.\n"
     ]
    }
   ],
   "source": [
    "%pip install matplotlib\n"
   ]
  },
  {
   "cell_type": "code",
   "execution_count": 16,
   "id": "3cce12fd",
   "metadata": {},
   "outputs": [
    {
     "name": "stdout",
     "output_type": "stream",
     "text": [
      "Requirement already satisfied: requests in d:\\anacondaa\\lib\\site-packages (2.32.3)\n",
      "Requirement already satisfied: charset-normalizer<4,>=2 in d:\\anacondaa\\lib\\site-packages (from requests) (3.3.2)\n",
      "Requirement already satisfied: idna<4,>=2.5 in d:\\anacondaa\\lib\\site-packages (from requests) (3.7)\n",
      "Requirement already satisfied: urllib3<3,>=1.21.1 in d:\\anacondaa\\lib\\site-packages (from requests) (2.2.3)\n",
      "Requirement already satisfied: certifi>=2017.4.17 in d:\\anacondaa\\lib\\site-packages (from requests) (2025.4.26)\n",
      "Note: you may need to restart the kernel to use updated packages.\n"
     ]
    }
   ],
   "source": [
    "%pip install requests\n"
   ]
  },
  {
   "cell_type": "code",
   "execution_count": 21,
   "id": "6b5c41f8",
   "metadata": {},
   "outputs": [
    {
     "name": "stdout",
     "output_type": "stream",
     "text": [
      "{'login': 'RahulNeuroByte', 'id': 172238564, 'node_id': 'U_kgDOCkQm5A', 'avatar_url': 'https://avatars.githubusercontent.com/u/172238564?v=4', 'gravatar_id': '', 'url': 'https://api.github.com/users/RahulNeuroByte', 'html_url': 'https://github.com/RahulNeuroByte', 'followers_url': 'https://api.github.com/users/RahulNeuroByte/followers', 'following_url': 'https://api.github.com/users/RahulNeuroByte/following{/other_user}', 'gists_url': 'https://api.github.com/users/RahulNeuroByte/gists{/gist_id}', 'starred_url': 'https://api.github.com/users/RahulNeuroByte/starred{/owner}{/repo}', 'subscriptions_url': 'https://api.github.com/users/RahulNeuroByte/subscriptions', 'organizations_url': 'https://api.github.com/users/RahulNeuroByte/orgs', 'repos_url': 'https://api.github.com/users/RahulNeuroByte/repos', 'events_url': 'https://api.github.com/users/RahulNeuroByte/events{/privacy}', 'received_events_url': 'https://api.github.com/users/RahulNeuroByte/received_events', 'type': 'User', 'user_view_type': 'public', 'site_admin': False, 'name': 'Rahul Kumar Dubey', 'company': 'CGC Landran, Mohali', 'blog': '', 'location': 'Chandigarh', 'email': None, 'hireable': True, 'bio': 'Hi, I’m Rahul ! \\r\\n• Final Year Engineering Student  \\r\\n• Passionate about Generative AI, Data Science  \\r\\n•  Love turning raw data into smart decisions', 'twitter_username': None, 'public_repos': 8, 'public_gists': 0, 'followers': 2, 'following': 2, 'created_at': '2024-06-10T04:54:47Z', 'updated_at': '2025-07-14T11:01:34Z'}\n"
     ]
    }
   ],
   "source": [
    "import requests\n",
    "\n",
    "url = \"https://api.github.com/users/RahulNeurobyte\"\n",
    "response = requests.get(url)\n",
    "print(response.json())\n"
   ]
  },
  {
   "cell_type": "code",
   "execution_count": 1,
   "id": "08f769c5",
   "metadata": {},
   "outputs": [
    {
     "name": "stdout",
     "output_type": "stream",
     "text": [
      "Requirement already satisfied: PyJWT in d:\\anacondaa\\lib\\site-packages (2.8.0)\n",
      "Note: you may need to restart the kernel to use updated packages.\n"
     ]
    }
   ],
   "source": [
    "%pip install PyJWT\n"
   ]
  },
  {
   "cell_type": "code",
   "execution_count": 2,
   "id": "9e1e5967",
   "metadata": {},
   "outputs": [
    {
     "name": "stdout",
     "output_type": "stream",
     "text": [
      "Requirement already satisfied: wrapt in d:\\anacondaa\\lib\\site-packages (1.14.1)\n",
      "Note: you may need to restart the kernel to use updated packages.\n"
     ]
    }
   ],
   "source": [
    "%pip install wrapt"
   ]
  },
  {
   "cell_type": "code",
   "execution_count": 3,
   "id": "cc3194bd",
   "metadata": {},
   "outputs": [
    {
     "name": "stdout",
     "output_type": "stream",
     "text": [
      "Note: you may need to restart the kernel to use updated packages.\n"
     ]
    },
    {
     "name": "stderr",
     "output_type": "stream",
     "text": [
      "ERROR: Could not find a version that satisfies the requirement nacl (from versions: none)\n",
      "ERROR: No matching distribution found for nacl\n"
     ]
    }
   ],
   "source": [
    "%pip install nacl"
   ]
  },
  {
   "cell_type": "code",
   "execution_count": null,
   "id": "0944e936",
   "metadata": {},
   "outputs": [],
   "source": []
  },
  {
   "cell_type": "code",
   "execution_count": null,
   "id": "5f75b1f0",
   "metadata": {},
   "outputs": [],
   "source": []
  }
 ],
 "metadata": {
  "kernelspec": {
   "display_name": "base",
   "language": "python",
   "name": "python3"
  },
  "language_info": {
   "codemirror_mode": {
    "name": "ipython",
    "version": 3
   },
   "file_extension": ".py",
   "mimetype": "text/x-python",
   "name": "python",
   "nbconvert_exporter": "python",
   "pygments_lexer": "ipython3",
   "version": "3.12.7"
  }
 },
 "nbformat": 4,
 "nbformat_minor": 5
}
